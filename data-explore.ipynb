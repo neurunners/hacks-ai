{
 "cells": [
  {
   "cell_type": "markdown",
   "metadata": {},
   "source": [
    "1. Initialize modules"
   ]
  },
  {
   "cell_type": "code",
   "execution_count": 7,
   "metadata": {},
   "outputs": [],
   "source": [
    "import os\n",
    "import sys\n",
    "import pandas as pd\n",
    "from pandas import DataFrame\n"
   ]
  },
  {
   "cell_type": "markdown",
   "metadata": {},
   "source": [
    "2. Import files and reading"
   ]
  },
  {
   "cell_type": "code",
   "execution_count": 19,
   "metadata": {},
   "outputs": [
    {
     "name": "stdout",
     "output_type": "stream",
     "text": [
      "Data frame type: <class 'pandas.core.frame.DataFrame'>\n"
     ]
    }
   ],
   "source": [
    "filename = 'companies.xlsx'\n",
    "df = pd.read_excel(filename)\n",
    "print('Data frame type: ' + str(type(df)))"
   ]
  },
  {
   "cell_type": "markdown",
   "metadata": {},
   "source": [
    "3. Overview DS"
   ]
  },
  {
   "cell_type": "code",
   "execution_count": 20,
   "metadata": {},
   "outputs": [
    {
     "name": "stdout",
     "output_type": "stream",
     "text": [
      "Data overview\n",
      "<class 'pandas.core.frame.DataFrame'>\n",
      "RangeIndex: 3717 entries, 0 to 3716\n",
      "Data columns (total 9 columns):\n",
      " #   Column                              Non-Null Count  Dtype \n",
      "---  ------                              --------------  ----- \n",
      " 0   id_companies                        3717 non-null   int64 \n",
      " 1   Наименование поддержанной компании  3717 non-null   object\n",
      " 2   Отрасль                             3716 non-null   object\n",
      " 3   Подотрасль                          3717 non-null   object\n",
      " 4   Технология (1 уровень)              3717 non-null   object\n",
      " 5   Технология (2 уровень)              3717 non-null   object\n",
      " 6   Технология (3 уровень)              3717 non-null   object\n",
      " 7   Сайт                                3717 non-null   object\n",
      " 8   Описание компании                   3717 non-null   object\n",
      "dtypes: int64(1), object(8)\n",
      "memory usage: 261.5+ KB\n"
     ]
    },
    {
     "data": {
      "text/html": [
       "<div>\n",
       "<style scoped>\n",
       "    .dataframe tbody tr th:only-of-type {\n",
       "        vertical-align: middle;\n",
       "    }\n",
       "\n",
       "    .dataframe tbody tr th {\n",
       "        vertical-align: top;\n",
       "    }\n",
       "\n",
       "    .dataframe thead th {\n",
       "        text-align: right;\n",
       "    }\n",
       "</style>\n",
       "<table border=\"1\" class=\"dataframe\">\n",
       "  <thead>\n",
       "    <tr style=\"text-align: right;\">\n",
       "      <th></th>\n",
       "      <th>id_companies</th>\n",
       "      <th>Наименование поддержанной компании</th>\n",
       "      <th>Отрасль</th>\n",
       "      <th>Подотрасль</th>\n",
       "      <th>Технология (1 уровень)</th>\n",
       "      <th>Технология (2 уровень)</th>\n",
       "      <th>Технология (3 уровень)</th>\n",
       "      <th>Сайт</th>\n",
       "      <th>Описание компании</th>\n",
       "    </tr>\n",
       "  </thead>\n",
       "  <tbody>\n",
       "    <tr>\n",
       "      <th>0</th>\n",
       "      <td>784577</td>\n",
       "      <td>ООО \"АГРОПЛАЗМА\"</td>\n",
       "      <td>NaN</td>\n",
       "      <td>Растениеводство</td>\n",
       "      <td>Синтез материальных объектов</td>\n",
       "      <td>Синтез живых организмов и систем</td>\n",
       "      <td>Технологии селекции растений</td>\n",
       "      <td>http://www.agroplazma.com</td>\n",
       "      <td>ООО «Агроплазма» является оригинатором и патен...</td>\n",
       "    </tr>\n",
       "    <tr>\n",
       "      <th>1</th>\n",
       "      <td>810784</td>\n",
       "      <td>ООО \"ЛАБОРАТОРИЯ НАНОСЕМАНТИКА\"</td>\n",
       "      <td>ТЕЛЕКОММУНИКАЦИИ И ИНТЕРНЕТ</td>\n",
       "      <td>Деятельность по созданию новых информационных ...</td>\n",
       "      <td>Синтез информации</td>\n",
       "      <td>Искусственный интеллект</td>\n",
       "      <td>Обработка естественных языков (перевод, класси...</td>\n",
       "      <td>https://nanosemantics.ai/</td>\n",
       "      <td>\"Лаборатория Наносемантика\" — ведущий российск...</td>\n",
       "    </tr>\n",
       "    <tr>\n",
       "      <th>2</th>\n",
       "      <td>810785</td>\n",
       "      <td>ООО \"РОМЕТ\"</td>\n",
       "      <td>ПРОМЫШЛЕННОСТЬ</td>\n",
       "      <td>Металлургия, металлопродукция, производство го...</td>\n",
       "      <td>Синтез материальных объектов</td>\n",
       "      <td>Новые производственные процессы</td>\n",
       "      <td>Технологии сварки и пайки</td>\n",
       "      <td>http://ro-met.com</td>\n",
       "      <td>Компания \"ROMeT\" специализируется на производс...</td>\n",
       "    </tr>\n",
       "    <tr>\n",
       "      <th>3</th>\n",
       "      <td>810786</td>\n",
       "      <td>АО \"СМАРТФИН\"</td>\n",
       "      <td>ТЕЛЕКОММУНИКАЦИИ И ИНТЕРНЕТ</td>\n",
       "      <td>Разработка аппаратно-программных комплексов</td>\n",
       "      <td>Обработка и преобразование информации</td>\n",
       "      <td>Обработка и хранение больших данных</td>\n",
       "      <td>Интерфейсы обмена большими данными</td>\n",
       "      <td>https://www.2can.ru</td>\n",
       "      <td>Компания 2can решает проблему приема денежных ...</td>\n",
       "    </tr>\n",
       "    <tr>\n",
       "      <th>4</th>\n",
       "      <td>810787</td>\n",
       "      <td>ООО \"УЧИ.РУ\"</td>\n",
       "      <td>ТЕЛЕКОММУНИКАЦИИ И ИНТЕРНЕТ</td>\n",
       "      <td>Специализированные информационные системы</td>\n",
       "      <td>Синтез информации</td>\n",
       "      <td>Синтез контента</td>\n",
       "      <td>Синтез образовательного контента</td>\n",
       "      <td>http://www.uchi.ru</td>\n",
       "      <td>\"Учи.ру\" — крупнейшая отечественная образовате...</td>\n",
       "    </tr>\n",
       "  </tbody>\n",
       "</table>\n",
       "</div>"
      ],
      "text/plain": [
       "   id_companies Наименование поддержанной компании  \\\n",
       "0        784577                   ООО \"АГРОПЛАЗМА\"   \n",
       "1        810784    ООО \"ЛАБОРАТОРИЯ НАНОСЕМАНТИКА\"   \n",
       "2        810785                        ООО \"РОМЕТ\"   \n",
       "3        810786                      АО \"СМАРТФИН\"   \n",
       "4        810787                       ООО \"УЧИ.РУ\"   \n",
       "\n",
       "                       Отрасль  \\\n",
       "0                          NaN   \n",
       "1  ТЕЛЕКОММУНИКАЦИИ И ИНТЕРНЕТ   \n",
       "2               ПРОМЫШЛЕННОСТЬ   \n",
       "3  ТЕЛЕКОММУНИКАЦИИ И ИНТЕРНЕТ   \n",
       "4  ТЕЛЕКОММУНИКАЦИИ И ИНТЕРНЕТ   \n",
       "\n",
       "                                          Подотрасль  \\\n",
       "0                                    Растениеводство   \n",
       "1  Деятельность по созданию новых информационных ...   \n",
       "2  Металлургия, металлопродукция, производство го...   \n",
       "3        Разработка аппаратно-программных комплексов   \n",
       "4          Специализированные информационные системы   \n",
       "\n",
       "                  Технология (1 уровень)               Технология (2 уровень)  \\\n",
       "0           Синтез материальных объектов     Синтез живых организмов и систем   \n",
       "1                      Синтез информации              Искусственный интеллект   \n",
       "2           Синтез материальных объектов      Новые производственные процессы   \n",
       "3  Обработка и преобразование информации  Обработка и хранение больших данных   \n",
       "4                      Синтез информации                      Синтез контента   \n",
       "\n",
       "                              Технология (3 уровень)  \\\n",
       "0                       Технологии селекции растений   \n",
       "1  Обработка естественных языков (перевод, класси...   \n",
       "2                          Технологии сварки и пайки   \n",
       "3                 Интерфейсы обмена большими данными   \n",
       "4                   Синтез образовательного контента   \n",
       "\n",
       "                        Сайт  \\\n",
       "0  http://www.agroplazma.com   \n",
       "1  https://nanosemantics.ai/   \n",
       "2          http://ro-met.com   \n",
       "3        https://www.2can.ru   \n",
       "4         http://www.uchi.ru   \n",
       "\n",
       "                                   Описание компании  \n",
       "0  ООО «Агроплазма» является оригинатором и патен...  \n",
       "1  \"Лаборатория Наносемантика\" — ведущий российск...  \n",
       "2  Компания \"ROMeT\" специализируется на производс...  \n",
       "3  Компания 2can решает проблему приема денежных ...  \n",
       "4  \"Учи.ру\" — крупнейшая отечественная образовате...  "
      ]
     },
     "execution_count": 20,
     "metadata": {},
     "output_type": "execute_result"
    }
   ],
   "source": [
    "print('Data overview')\n",
    "pd.DataFrame.info(df)\n",
    "df.head()\n",
    " "
   ]
  }
 ],
 "metadata": {
  "kernelspec": {
   "display_name": "Python 3.10.6 64-bit",
   "language": "python",
   "name": "python3"
  },
  "language_info": {
   "codemirror_mode": {
    "name": "ipython",
    "version": 3
   },
   "file_extension": ".py",
   "mimetype": "text/x-python",
   "name": "python",
   "nbconvert_exporter": "python",
   "pygments_lexer": "ipython3",
   "version": "3.10.6"
  },
  "orig_nbformat": 4,
  "vscode": {
   "interpreter": {
    "hash": "916dbcbb3f70747c44a77c7bcd40155683ae19c65e1c03b4aa3499c5328201f1"
   }
  }
 },
 "nbformat": 4,
 "nbformat_minor": 2
}
